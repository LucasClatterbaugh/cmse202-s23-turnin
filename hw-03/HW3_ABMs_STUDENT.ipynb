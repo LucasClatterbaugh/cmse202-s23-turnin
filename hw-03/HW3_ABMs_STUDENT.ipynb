{
 "cells": [
  {
   "cell_type": "markdown",
   "metadata": {},
   "source": [
    "# Homework Assignment 3 (Individual)\n",
    "\n",
    "---"
   ]
  },
  {
   "cell_type": "markdown",
   "metadata": {},
   "source": [
    "### <p style=\"text-align: right;\"> &#9989; Lucas Clatterbaugh.</p>"
   ]
  },
  {
   "attachments": {},
   "cell_type": "markdown",
   "metadata": {},
   "source": [
    "\n",
    "---\n",
    "## Creating a natural selection model using ABMs and OOP\n",
    "\n",
    "In this homework, we have two sections.\n",
    "\n",
    "- **Part A: Git practice**\n",
    "- **Part B: ABM + OOP: Simulating animal populations -- Natural selection and adaptation**\n",
    "\n",
    "<img src=\"https://raw.githubusercontent.com/huichiayu/cmse_202_802/main/IMGs/rock_mice.jpg\" border=\"0\" align=\"center\" width=\"600\">\n",
    "image found online.\n",
    "\n",
    "\n",
    "### Goal for this homework assignment\n",
    "By now, you have learned ABM and OOP through the assignments of assembling Zoo and Superbugs. Let's use those skills to build a simple fun model of natural selection. \n",
    "\n",
    "**This assignment is due roughly two weeks from now at 11:59 pm on Friday, March 31.** It should be uploaded into the \"Homework Assignments\" submission folder for Homework #3, as well as GitHub turn-in repo.  Submission instructions can be found at the end of the notebook. **The distribution of points can be found in the section headers**.\n"
   ]
  },
  {
   "attachments": {},
   "cell_type": "markdown",
   "metadata": {},
   "source": [
    "---\n",
    "## Part 0: Upload this file to your Git repository to track your progress on your assignment (15 pt)\n",
    "\n",
    "#### Note: This is different from previous assignments!\n",
    "\n",
    "You will add this homework assignment to your GutHub repository you created for previous homework so that you can track your progress on the assignment and preserve the final version that you turn in. We also want you to get practice with **branching**, as that will be important and useful for your group projects. \n",
    "\n",
    "**&#9989; Do the following**:\n",
    "\n",
    "\n",
    "1. Navigate to your `cmse202-s23-turnin` repository \n",
    "2. Create a new branch called `hw03_branch` and move into it. \n",
    "3. Create a new directory called `hw-03`.\n",
    "4. Move this notebook into that **new directory**, then **add** and **commit** it. \n",
    "5. Finally, to test that everything is working, `git push` the file and new branch so they end up in your GitHub repository. \n",
    "\n",
    "**Important**: Make sure to add your Professor and TA as collaborators of this respository with \"Read\" access so that we can see your assignment (you should have done this in the previous homework assignment)\n",
    "\n",
    "**Also**: Make sure that the version of this notebook that you are working on is the same one that you just added to your repository! If you are working on a different copy of the noteobok, **none of your changes will be tracked**!\n",
    "\n",
    "If everything went as intended, the file should now show up on your GitHub account in the `cmse202-s23-turnin` repository inside the `hw-03` directory and `hw-03` branch that you just created.  Periodically, **you'll be asked to commit your changes and push them to the remote GitHub location**. Of course, you can always commit your changes more often than that, if you wish.  It will be good to develop a habit of committing your changes any time you make a significant modification, or when you stop working on the project for a bit.\n",
    "\n"
   ]
  },
  {
   "attachments": {},
   "cell_type": "markdown",
   "metadata": {},
   "source": [
    "---\n",
    "\n",
    "# A natural selection model\n",
    "For this homework assignment, you will be building an Agent-Based Model (ABM) that simulates natural selection in action. You will build two classes for mice, which inhabit the world, and one class for a (predator) hawk. The mice have different fur color, which allows them to blend in better (or worse) with their environment. This model is (loosely) based on an actual case of natural selection involving the [Peppered Moth](https://en.wikipedia.org/wiki/Peppered_moth_evolution).\n",
    "\n",
    "For this assignment, you will be working with an environment class, which will allow you to actually run your simulation. We've also provided you with a generic `Animal_Agent`, which you will use to build your own classes for the natural selection model. You will need to download the generic `Animal_Agent` class and `Environment` class. You can find them here:\n",
    "\n",
    "- `https://raw.githubusercontent.com/msu-cmse-courses/cmse202-S23-data/main/HW/HW3/Animal_Agent_Class.py`\n",
    "- `https://raw.githubusercontent.com/msu-cmse-courses/cmse202-S23-data/main/HW/HW3/Environment.py`"
   ]
  },
  {
   "attachments": {},
   "cell_type": "markdown",
   "metadata": {},
   "source": [
    "## 1. Building Up an Environment with Animal Agents\n",
    "\n",
    "\n",
    "\n",
    "### 1.1 (5 Points)\n",
    "\n",
    "Spend some time exploring the new classes a bit. **Write a few sentences giving a high-level description of how this model works. What are the different classes? What do they do? How can they be used to create an Agent-Based Model?**\n"
   ]
  },
  {
   "attachments": {},
   "cell_type": "markdown",
   "metadata": {},
   "source": [
    "The environment py file allows a user to create a environment in which there will be predators and prey and runs the environment\n",
    "\n",
    "The Animal Agent Class py file is a class that has a bunch of commands that the animal can do such as romaing, aging and death, hunting and procreating "
   ]
  },
  {
   "attachments": {},
   "cell_type": "markdown",
   "metadata": {},
   "source": [
    "### 1.2 (15 Points)\n",
    "\n",
    "Construct a new `Environment` object and a new `Animal_Agent` object. Specify that the `Animal_Agent` object is a female. Add the `Animal_Agent` object to the `Environment` object. Run the `simulation` method. You should see there's a bug in the code. **Fix the bug and explain what the cause was.**"
   ]
  },
  {
   "cell_type": "code",
   "execution_count": 5,
   "metadata": {},
   "outputs": [],
   "source": [
    "from Environment import Environment\n",
    "from Animal_Agent_Class import Animal_Agent, Mouse, Hawk\n",
    "import random"
   ]
  },
  {
   "cell_type": "code",
   "execution_count": 2,
   "metadata": {},
   "outputs": [
    {
     "data": {
      "image/png": "[encoded data removed]",
      "text/plain": [
       "<Figure size 600x600 with 1 Axes>"
      ]
     },
     "metadata": {},
     "output_type": "display_data"
    }
   ],
   "source": [
    "EnvObj = Environment()\n",
    "AniObj = Animal_Agent(sex ='F')\n",
    "EnvObj.add_agent(AniObj)\n",
    "EnvObj.simulate(tot_time=25)\n"
   ]
  },
  {
   "attachments": {},
   "cell_type": "markdown",
   "metadata": {},
   "source": [
    "the error came from the procreate function, the all_agents variable and the time variable were filpped "
   ]
  },
  {
   "attachments": {},
   "cell_type": "markdown",
   "metadata": {},
   "source": [
    "### 1.3 (5 Points)\n",
    "\n",
    "**In the cell below, copy your `simulation` code from above and rerun it with the bug fixed to show how the animal runs around.** You should use the `set_allele()` method in the `Animal_Agent` class to randomly assign two alleles to your `Animal_Agent` object.\n"
   ]
  },
  {
   "cell_type": "code",
   "execution_count": 3,
   "metadata": {},
   "outputs": [],
   "source": [
    "    def simulate(self,tot_time):\n",
    "        for dt in range(tot_time):\n",
    "            clear_output(wait=True)\n",
    "            plt.figure(figsize=(6, 6))    \n",
    "            plt.imshow(self.environ) \n",
    "            ax = plt.gca()   \n",
    "            \n",
    "            # loop over each animal\n",
    "            temp_agents = []\n",
    "            temp_hunted_agents = []\n",
    "            for agent in self.animal_agents:\n",
    "                agent.roaming()\n",
    "                agent.draw(ax)\n",
    "                \n",
    "                if agent.ptype == \"Prey\":\n",
    "                    agent.aging()\n",
    "                    \n",
    "                    if agent.check_if_dead():\n",
    "                        del agent\n",
    "                    else:\n",
    "                        temp_agents.append(agent)\n",
    "                        temp_new_agents = agent.procreate(self.animal_agents,dt) #THIS IS THE LINE I FIXED -----------------------------------\n",
    "                        if len(temp_new_agents) > 0:\n",
    "                            temp_agents.extend(temp_new_agents)\n",
    "                elif agent.ptype == \"Predator\":\n",
    "                    caught_prey = agent.hunt(self.animal_agents)\n",
    "                    if caught_prey:\n",
    "                        temp_hunted_agents.append(caught_prey)\n",
    "                    temp_agents.append(agent)\n",
    "            \n",
    "            for agent in temp_hunted_agents:\n",
    "                temp_agents.remove(agent)        \n",
    "            self.animal_agents.clear\n",
    "            self.animal_agents = temp_agents\n",
    "            plt.xlim(0,self.xsize)\n",
    "            plt.ylim(0,self.ysize)\n",
    "            plt.show()   \n",
    "            time.sleep(0.001)     "
   ]
  },
  {
   "cell_type": "code",
   "execution_count": 6,
   "metadata": {},
   "outputs": [],
   "source": [
    "alle_d = random.randint(0,1)\n",
    "alle_m = random.randint(0,1)\n",
    "AniObj.set_allele(alle_d,alle_m)\n"
   ]
  },
  {
   "attachments": {},
   "cell_type": "markdown",
   "metadata": {},
   "source": [
    "### 1.4 (5 Points)\n",
    "\n",
    "**Now add in a predator and let it evolve. Do you see the predator hunting the prey object?** Make sure to set the `ptype` to predator, and the `shape` and `color` to be something different from the prey you defined above (E.g., a shape of \"P\" and a color of \"red\".)"
   ]
  },
  {
   "cell_type": "code",
   "execution_count": 7,
   "metadata": {},
   "outputs": [
    {
     "data": {
      "image/png": "[encoded data removed]",
      "text/plain": [
       "<Figure size 600x600 with 1 Axes>"
      ]
     },
     "metadata": {},
     "output_type": "display_data"
    }
   ],
   "source": [
    "PredObj = Animal_Agent(ptype='Predator', shape='P', color='red')\n",
    "EnvObj.add_agent(PredObj)\n",
    "\n",
    "EnvObj.simulate(tot_time=25)"
   ]
  },
  {
   "attachments": {},
   "cell_type": "markdown",
   "metadata": {},
   "source": [
    "### 1.5 (15 Points)\n",
    "\n",
    "**Now add *multiple* predator and prey agents ($N > 1$ for both). Find a combination of $N_{\\mathrm{Prey}}$ and $N_{\\mathrm{Predator}}$ where the Prey can maintain a sustainable population (I.e., they aren't wiped out in the long run).**\n",
    "\n",
    "- **NOTE 1:** Make sure you add both male and female Prey, so they can `Procreate`. \n",
    "- **NOTE 2:** We recommend using the `simulate_plot_populations()` method, so you can monitor the growth/decline of populations."
   ]
  },
  {
   "cell_type": "code",
   "execution_count": 13,
   "metadata": {},
   "outputs": [
    {
     "data": {
      "image/png": "[encoded data removed]",
      "text/plain": [
       "<Figure size 600x600 with 1 Axes>"
      ]
     },
     "metadata": {},
     "output_type": "display_data"
    },
    {
     "data": {
      "image/png": "[encoded data removed]",
      "text/plain": [
       "<Figure size 640x480 with 1 Axes>"
      ]
     },
     "metadata": {},
     "output_type": "display_data"
    }
   ],
   "source": [
    "EnvObj = Environment()\n",
    "\n",
    "PredObj2 = Animal_Agent(ptype='Predator', shape='P',sex ='M',color='red')\n",
    "EnvObj.add_agent(PredObj2)\n",
    "PredObj3 = Animal_Agent(ptype='Predator', shape='P',sex = 'F',color='red')\n",
    "EnvObj.add_agent(PredObj3)\n",
    "\n",
    "PredObj3 = Animal_Agent(ptype='Predator', shape='P',sex ='M',color='red')\n",
    "EnvObj.add_agent(PredObj3)\n",
    "\n",
    "\n",
    "\n",
    "\n",
    "AniObj2 = Animal_Agent(sex ='F',ptype='Prey')\n",
    "AniObj2.set_allele(alle_d = random.randint(0,1),alle_m = random.randint(0,1))\n",
    "EnvObj.add_agent(AniObj2)\n",
    "\n",
    "AniObj2 = Animal_Agent(sex ='M',ptype='Prey')\n",
    "AniObj2.set_allele(alle_d = random.randint(0,1),alle_m = random.randint(0,1))\n",
    "EnvObj.add_agent(AniObj2)\n",
    "\n",
    "AniObj3 = Animal_Agent(sex ='F',ptype='Prey')\n",
    "AniObj3.set_allele(alle_d = random.randint(0,1),alle_m = random.randint(0,1))\n",
    "EnvObj.add_agent(AniObj3)\n",
    "\n",
    "AniObj4 = Animal_Agent(sex ='M',ptype='Prey')\n",
    "AniObj4.set_allele(alle_d = random.randint(0,1),alle_m = random.randint(0,1))\n",
    "EnvObj.add_agent(AniObj4)\n",
    "\n",
    "AniObj5 = Animal_Agent(sex ='F',ptype='Prey')\n",
    "AniObj5.set_allele(alle_d = random.randint(0,1),alle_m = random.randint(0,1))\n",
    "EnvObj.add_agent(AniObj5)\n",
    "\n",
    "AniObj6 = Animal_Agent(sex ='M',ptype='Prey')\n",
    "AniObj6.set_allele(alle_d = random.randint(0,1),alle_m = random.randint(0,1))\n",
    "EnvObj.add_agent(AniObj6)\n",
    "\n",
    "AniObj7 = Animal_Agent(sex ='F',ptype='Prey')\n",
    "AniObj7.set_allele(alle_d = random.randint(0,1),alle_m = random.randint(0,1))\n",
    "EnvObj.add_agent(AniObj7)\n",
    "\n",
    "AniObj8 = Animal_Agent(sex ='M',ptype='Prey')\n",
    "AniObj8.set_allele(alle_d = random.randint(0,1),alle_m = random.randint(0,1))\n",
    "EnvObj.add_agent(AniObj8)\n",
    "\n",
    "\n",
    "AniObj9 = Animal_Agent(sex ='M',ptype='Prey')\n",
    "AniObj9.set_allele(alle_d = random.randint(0,1),alle_m = random.randint(0,1))\n",
    "EnvObj.add_agent(AniObj9)\n",
    "\n",
    "\n",
    "AniObj10 = Animal_Agent(sex ='M',ptype='Prey')\n",
    "AniObj10.set_allele(alle_d = random.randint(0,1),alle_m = random.randint(0,1))\n",
    "EnvObj.add_agent(AniObj10)\n",
    "\n",
    "AniObj20 = Animal_Agent(sex ='M',ptype='Prey')\n",
    "AniObj20.set_allele(alle_d = random.randint(0,1),alle_m = random.randint(0,1))\n",
    "EnvObj.add_agent(AniObj20)\n",
    "\n",
    "AniObj30 = Animal_Agent(sex ='F',ptype='Prey')\n",
    "AniObj30.set_allele(alle_d = random.randint(0,1),alle_m = random.randint(0,1))\n",
    "EnvObj.add_agent(AniObj30)\n",
    "\n",
    "AniObj40 = Animal_Agent(sex ='M',ptype='Prey')\n",
    "AniObj40.set_allele(alle_d = random.randint(0,1),alle_m = random.randint(0,1))\n",
    "EnvObj.add_agent(AniObj40)\n",
    "\n",
    "AniObj50 = Animal_Agent(sex ='F',ptype='Prey')\n",
    "AniObj50.set_allele(alle_d = random.randint(0,1),alle_m = random.randint(0,1))\n",
    "EnvObj.add_agent(AniObj50)\n",
    "\n",
    "AniObj60 = Animal_Agent(sex ='M',ptype='Prey')\n",
    "AniObj60.set_allele(alle_d = random.randint(0,1),alle_m = random.randint(0,1))\n",
    "EnvObj.add_agent(AniObj60)\n",
    "\n",
    "AniObj70= Animal_Agent(sex ='F',ptype='Prey')\n",
    "AniObj70.set_allele(alle_d = random.randint(0,1),alle_m = random.randint(0,1))\n",
    "EnvObj.add_agent(AniObj70)\n",
    "\n",
    "AniObj80 = Animal_Agent(sex ='M',ptype='Prey')\n",
    "AniObj80.set_allele(alle_d = random.randint(0,1),alle_m = random.randint(0,1))\n",
    "EnvObj.add_agent(AniObj80)\n",
    "\n",
    "\n",
    "AniObj90 = Animal_Agent(sex ='M',ptype='Prey')\n",
    "AniObj90.set_allele(alle_d = random.randint(0,0),alle_m = random.randint(0,0))\n",
    "EnvObj.add_agent(AniObj90)\n",
    "\n",
    "\n",
    "AniObj100 = Animal_Agent(sex ='M',ptype='Prey')\n",
    "AniObj100.set_allele(alle_d = random.randint(0,0),alle_m = random.randint(0,0))\n",
    "EnvObj.add_agent(AniObj100)\n",
    "\n",
    "EnvObj.simulate(tot_time=50)\n",
    "EnvObj.simulate_plot_populations(tot_time=50)"
   ]
  },
  {
   "attachments": {},
   "cell_type": "markdown",
   "metadata": {},
   "source": [
    "### 1.6 (5 Points)\n",
    "\n",
    "**How does the population evolve over time? (I.e., is it linear? Periodic? etc.) What causes this shape? How does the population of light brown and dark brown prey differ (if at all)?**"
   ]
  },
  {
   "attachments": {},
   "cell_type": "markdown",
   "metadata": {},
   "source": [
    "The population is periodic but is damped so it is slowly decreasing, when there are too many prey they sharply decrease, but then slowly procreate. \n",
    "The dark brown are more rare so sometimes they don't appear but when they do they typically go sharply increase in population"
   ]
  },
  {
   "attachments": {},
   "cell_type": "markdown",
   "metadata": {},
   "source": [
    "## 2. Refining the Model\n",
    "\n",
    "For this part, we're going to use our generic `Animal_Agent`class to construct child classes that represent *specific* animal species for both our predator and prey animals. Specifically, we'll be making a `Mouse` child class for the prey and a `Hawk` child class for the predator. **We'll use these new child classes to run our natural selection model.**\n",
    "\n",
    "### 2.1 (15 Points)\n",
    "\n",
    "Create a new `Mouse` child class, using the `Animal_Agent` as the parent class. The `Mouse` class will largely be the same as the `Animal_Agent` class except for two details: \n",
    "\n",
    "1. **In the `set_allele` method, add a new class attribute called `catch_probability`. For the light-brown mice, set `catch_probability` to 0.95. For dark brown mice, set the `catch_probability` to 0.05.**\n",
    "2. **Change the `Procreate` method so that they create new `Mouse` animal objects.**\n",
    "\n"
   ]
  },
  {
   "cell_type": "code",
   "execution_count": null,
   "metadata": {},
   "outputs": [],
   "source": [
    "#updated in Animal_Agent py file"
   ]
  },
  {
   "attachments": {},
   "cell_type": "markdown",
   "metadata": {},
   "source": [
    "### 2.2 (10 Points)\n",
    "\n",
    "Create a new `Hawk` child class, using the `Animal_Agent` as the parent class. The `Hawk` class will largely be the same as the `Animal_Agent` class except for one detail: **In the `hunt` method, incorporate the `catch_probability` of the predator, such that it is harder for a `Hawk` to catch a `Mouse` with a lower `catch_probability`.**"
   ]
  },
  {
   "cell_type": "code",
   "execution_count": null,
   "metadata": {},
   "outputs": [],
   "source": [
    "#updated in Animal_Agent py file"
   ]
  },
  {
   "attachments": {},
   "cell_type": "markdown",
   "metadata": {},
   "source": [
    "### 2.3 (5 Points)\n",
    "\n",
    "**Repeat problem 1.5, replacing the generic prey with the `Mice` animals, and the generic predators with the `Hawk` animals.**"
   ]
  },
  {
   "cell_type": "code",
   "execution_count": 36,
   "metadata": {},
   "outputs": [
    {
     "data": {
      "image/png": "[encoded data removed]",
      "text/plain": [
       "<Figure size 640x480 with 1 Axes>"
      ]
     },
     "metadata": {},
     "output_type": "display_data"
    }
   ],
   "source": [
    "NewEnv = Environment()\n",
    "\n",
    "Hawk1 = Hawk(ptype='Predator',sex ='F',color='red')\n",
    "NewEnv.add_agent(Hawk1)\n",
    "\n",
    "Hawk2 = Hawk(ptype='Predator',sex ='M',color ='red')\n",
    "NewEnv.add_agent(Hawk2)\n",
    "\n",
    "\n",
    "Hawk3 = Hawk(ptype='Predator',sex ='F',color='red')\n",
    "NewEnv.add_agent(Hawk3)\n",
    "\n",
    "\n",
    "Mouse1 = Mouse(ptype='Prey',sex='F')\n",
    "Mouse1.set_allele(alle_d = random.randint(0,1),alle_m = random.randint(0,1))\n",
    "NewEnv.add_agent(Mouse1)\n",
    "Mouse2 = Mouse(ptype='Prey',sex='F')\n",
    "Mouse2.set_allele(alle_d = random.randint(0,1),alle_m = random.randint(0,1))\n",
    "NewEnv.add_agent(Mouse2)\n",
    "Mouse3 = Mouse(ptype='Prey',sex='F')\n",
    "Mouse3.set_allele(alle_d = random.randint(0,1),alle_m = random.randint(0,1))\n",
    "NewEnv.add_agent(Mouse3)\n",
    "Mouse4 = Mouse(ptype='Prey',sex='M')\n",
    "Mouse4.set_allele(alle_d = random.randint(0,1),alle_m = random.randint(0,1))\n",
    "NewEnv.add_agent(Mouse4)\n",
    "Mouse5 = Mouse(ptype='Prey',sex='F')\n",
    "Mouse5.set_allele(alle_d = random.randint(0,1),alle_m = random.randint(0,1))\n",
    "NewEnv.add_agent(Mouse5)\n",
    "Mouse6 = Mouse(ptype='Prey',sex='F')\n",
    "Mouse6.set_allele(alle_d = random.randint(0,1),alle_m = random.randint(0,1))\n",
    "NewEnv.add_agent(Mouse6)\n",
    "Mouse7 = Mouse(ptype='Prey',sex='F')\n",
    "Mouse7.set_allele(alle_d = random.randint(0,1),alle_m = random.randint(0,1))\n",
    "NewEnv.add_agent(Mouse7)\n",
    "Mouse8 = Mouse(ptype='Prey',sex='M')\n",
    "Mouse8.set_allele(alle_d = random.randint(0,1),alle_m = random.randint(0,1))\n",
    "NewEnv.add_agent(Mouse8)\n",
    "Mouse10 = Mouse(ptype='Prey',sex='F')\n",
    "Mouse10.set_allele(alle_d = random.randint(0,1),alle_m = random.randint(0,1))\n",
    "NewEnv.add_agent(Mouse10)\n",
    "Mouse20 = Mouse(ptype='Prey',sex='F')\n",
    "Mouse20.set_allele(alle_d = random.randint(0,1),alle_m = random.randint(0,1))\n",
    "NewEnv.add_agent(Mouse20)\n",
    "Mouse30 = Mouse(ptype='Prey',sex='F')\n",
    "Mouse30.set_allele(alle_d = random.randint(0,1),alle_m = random.randint(0,1))\n",
    "NewEnv.add_agent(Mouse30)\n",
    "Mouse40 = Mouse(ptype='Prey',sex='M')\n",
    "Mouse40.set_allele(alle_d = random.randint(0,1),alle_m = random.randint(0,1))\n",
    "NewEnv.add_agent(Mouse40)\n",
    "Mouse50 = Mouse(ptype='Prey',sex='F')\n",
    "Mouse50.set_allele(alle_d = random.randint(0,1),alle_m = random.randint(0,1))\n",
    "NewEnv.add_agent(Mouse50)\n",
    "Mouse60 = Mouse(ptype='Prey',sex='F')\n",
    "Mouse60.set_allele(alle_d = random.randint(0,1),alle_m = random.randint(0,1))\n",
    "NewEnv.add_agent(Mouse60)\n",
    "Mouse70 = Mouse(ptype='Prey',sex='F')\n",
    "Mouse70.set_allele(alle_d = random.randint(0,1),alle_m = random.randint(0,1))\n",
    "NewEnv.add_agent(Mouse70)\n",
    "Mouse80 = Mouse(ptype='Prey',sex='M')\n",
    "Mouse80.set_allele(alle_d = random.randint(0,1),alle_m = random.randint(0,1))\n",
    "NewEnv.add_agent(Mouse80)\n",
    "\n",
    "#NewEnv.simulate(tot_time=75)\n",
    "NewEnv.simulate_plot_populations(tot_time=75)\n",
    "\n"
   ]
  },
  {
   "attachments": {},
   "cell_type": "markdown",
   "metadata": {},
   "source": [
    "### 2.4 (5 Points)\n",
    "\n",
    "**Describe the differences between your results using the `Hawk` and `Mouse` class and the results from part 1.5. If and how does this model capture the effects of natural selection?**"
   ]
  },
  {
   "attachments": {},
   "cell_type": "markdown",
   "metadata": {},
   "source": [
    "The Mouses I have not capture the effects of natural selection, the mice that are harder to catch are supposed to increase higher than the mice that are easier to catch "
   ]
  },
  {
   "attachments": {},
   "cell_type": "markdown",
   "metadata": {},
   "source": [
    "---\n",
    "### &#128721; STOP\n",
    "**Pause to commit your changes and push to your Git repository!**\n",
    "\n",
    "## Git push, and then merge your `hw03_branch` into your `main` branch."
   ]
  },
  {
   "cell_type": "markdown",
   "metadata": {},
   "source": []
  }
 ],
 "metadata": {
  "kernelspec": {
   "display_name": "base",
   "language": "python",
   "name": "python3"
  },
  "language_info": {
   "codemirror_mode": {
    "name": "ipython",
    "version": 3
   },
   "file_extension": ".py",
   "mimetype": "text/x-python",
   "name": "python",
   "nbconvert_exporter": "python",
   "pygments_lexer": "ipython3",
   "version": "3.9.13"
  },
  "orig_nbformat": 4
 },
 "nbformat": 4,
 "nbformat_minor": 2
}
